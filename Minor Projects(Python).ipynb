{
 "cells": [
  {
   "cell_type": "code",
   "execution_count": null,
   "id": "35c849de-01f1-42f9-b3ec-d777cd66f47e",
   "metadata": {},
   "outputs": [],
   "source": [
    "#Minor Projects"
   ]
  },
  {
   "cell_type": "code",
   "execution_count": 1,
   "id": "c87ed091-644a-4553-b080-6b0a98b0dc73",
   "metadata": {},
   "outputs": [
    {
     "name": "stdout",
     "output_type": "stream",
     "text": [
      "Hello user\n"
     ]
    },
    {
     "name": "stdin",
     "output_type": "stream",
     "text": [
      "Enter password kuawhdu\n"
     ]
    },
    {
     "name": "stdout",
     "output_type": "stream",
     "text": [
      "Wrong password:2 attempts left\n"
     ]
    },
    {
     "name": "stdin",
     "output_type": "stream",
     "text": [
      "Enter password hwjekdhih129\n"
     ]
    },
    {
     "name": "stdout",
     "output_type": "stream",
     "text": [
      "Wrong password:1 attempts left\n"
     ]
    },
    {
     "name": "stdin",
     "output_type": "stream",
     "text": [
      "Enter password Pawan022\n"
     ]
    },
    {
     "name": "stdout",
     "output_type": "stream",
     "text": [
      "Login\n"
     ]
    }
   ],
   "source": [
    "# Password login minor project\n",
    "def login():\n",
    "    password='Pawan022'\n",
    "    attempts=3\n",
    "    print(\"Hello user\")\n",
    "    while attempts>0:\n",
    "        x=input(\"Enter password\")\n",
    "        if x==\"Pawan022\":\n",
    "            print(\"Login\")\n",
    "            break\n",
    "        else:\n",
    "            attempts-=1\n",
    "            print(f\"Wrong password:{attempts} attempts left\")\n",
    "login()"
   ]
  },
  {
   "cell_type": "code",
   "execution_count": 3,
   "id": "1995bd6b-085e-4277-9a04-d4f9e97addd8",
   "metadata": {},
   "outputs": [
    {
     "name": "stdin",
     "output_type": "stream",
     "text": [
      "Enter A Number: 4\n",
      "Enter B Number: 9\n"
     ]
    },
    {
     "name": "stdout",
     "output_type": "stream",
     "text": [
      "Press 1 for Addition\n",
      "Press 2 for Subtraction\n",
      "Press 3 for Multiplication\n",
      "Press 4 for Remainder\n",
      "Press 5 for Division\n",
      "Press 6 for Float Division\n",
      "Press 7 for Exponent\n"
     ]
    },
    {
     "name": "stdin",
     "output_type": "stream",
     "text": [
      "Enter your choice:  5\n"
     ]
    },
    {
     "name": "stdout",
     "output_type": "stream",
     "text": [
      "Result:  0.4444444444444444\n"
     ]
    }
   ],
   "source": [
    "# Basic calculator\n",
    "# minor project\n",
    "num1 = int(input(\"Enter A Number:\"))\n",
    "num2 = int(input(\"Enter B Number:\"))\n",
    "print(\"Press 1 for Addition\")\n",
    "print(\"Press 2 for Subtraction\")\n",
    "print(\"Press 3 for Multiplication\")\n",
    "print(\"Press 4 for Remainder\")\n",
    "print(\"Press 5 for Division\")\n",
    "print(\"Press 6 for Float Division\")\n",
    "print(\"Press 7 for Exponent\")\n",
    "choice = int(input(\"Enter your choice: \"))\n",
    "if choice==1:\n",
    "    print(\"Result: \",num1+num2)\n",
    "elif choice==2:\n",
    "    print(\"Result: \",num1-num2)\n",
    "elif choice==3:\n",
    "    print(\"Result: \",num1*num2)\n",
    "elif choice==4:\n",
    "    print(\"Result: \",num1%num2)\n",
    "elif choice==5:\n",
    "    print(\"Result: \",num1/num2)\n",
    "elif choice==6:\n",
    "    print(\"Result: \",num1//num2)\n",
    "elif choice==7:\n",
    "    print(\"Result: \",num1**num2)\n",
    "else:\n",
    "    print(\"Invalid choice !!! \")"
   ]
  },
  {
   "cell_type": "code",
   "execution_count": null,
   "id": "303dc23c-fda7-4e82-9d45-a2afce1d53e3",
   "metadata": {},
   "outputs": [],
   "source": []
  }
 ],
 "metadata": {
  "kernelspec": {
   "display_name": "Python 3 (ipykernel)",
   "language": "python",
   "name": "python3"
  },
  "language_info": {
   "codemirror_mode": {
    "name": "ipython",
    "version": 3
   },
   "file_extension": ".py",
   "mimetype": "text/x-python",
   "name": "python",
   "nbconvert_exporter": "python",
   "pygments_lexer": "ipython3",
   "version": "3.13.5"
  }
 },
 "nbformat": 4,
 "nbformat_minor": 5
}
