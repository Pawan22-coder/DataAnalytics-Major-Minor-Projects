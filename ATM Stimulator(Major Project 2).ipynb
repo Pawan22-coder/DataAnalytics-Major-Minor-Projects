{
 "cells": [
  {
   "cell_type": "code",
   "execution_count": 2,
   "id": "54b20903-5b71-4ae7-ab3d-90bbfe6d50e1",
   "metadata": {},
   "outputs": [
    {
     "name": "stdout",
     "output_type": "stream",
     "text": [
      "\n",
      "===== Welcome to Python ATM =====\n",
      "1. Create Account\n",
      "2. Login\n",
      "3. Exit\n"
     ]
    },
    {
     "name": "stdin",
     "output_type": "stream",
     "text": [
      "Enter your choice:  2\n",
      "Enter Account Number:  1234\n",
      "Enter PIN:  1234\n"
     ]
    },
    {
     "name": "stdout",
     "output_type": "stream",
     "text": [
      "Invalid account number or PIN.\n",
      "\n",
      "===== Welcome to Python ATM =====\n",
      "1. Create Account\n",
      "2. Login\n",
      "3. Exit\n"
     ]
    },
    {
     "name": "stdin",
     "output_type": "stream",
     "text": [
      "Enter your choice:  2\n",
      "Enter Account Number:  1234\n",
      "Enter PIN:  12345\n"
     ]
    },
    {
     "name": "stdout",
     "output_type": "stream",
     "text": [
      "Invalid account number or PIN.\n",
      "\n",
      "===== Welcome to Python ATM =====\n",
      "1. Create Account\n",
      "2. Login\n",
      "3. Exit\n"
     ]
    },
    {
     "name": "stdin",
     "output_type": "stream",
     "text": [
      "Enter your choice:  1\n",
      "Enter your name:  Pawan\n",
      "Set a 5-digit PIN:  12345\n",
      "Enter initial deposit amount:  5000\n"
     ]
    },
    {
     "name": "stdout",
     "output_type": "stream",
     "text": [
      "Account created successfully! Your account number is: 2\n",
      "\n",
      "===== Welcome to Python ATM =====\n",
      "1. Create Account\n",
      "2. Login\n",
      "3. Exit\n"
     ]
    },
    {
     "name": "stdin",
     "output_type": "stream",
     "text": [
      "Enter your choice:  2\n",
      "Enter Account Number:  1234\n",
      "Enter PIN:  12345\n"
     ]
    },
    {
     "name": "stdout",
     "output_type": "stream",
     "text": [
      "Invalid account number or PIN.\n",
      "\n",
      "===== Welcome to Python ATM =====\n",
      "1. Create Account\n",
      "2. Login\n",
      "3. Exit\n"
     ]
    },
    {
     "name": "stdin",
     "output_type": "stream",
     "text": [
      "Enter your choice:  2\n",
      "Enter Account Number:  2\n",
      "Enter PIN:  12345\n"
     ]
    },
    {
     "name": "stdout",
     "output_type": "stream",
     "text": [
      "Welcome Pawan!\n",
      "\n",
      "--- Menu ---\n",
      "1. Check Balance\n",
      "2. Deposit\n",
      "3. Withdraw\n",
      "4. Logout\n"
     ]
    },
    {
     "name": "stdin",
     "output_type": "stream",
     "text": [
      "Enter your choice:  2\n",
      "Enter amount to deposit:  200000\n"
     ]
    },
    {
     "name": "stdout",
     "output_type": "stream",
     "text": [
      "200000.0 deposited successfully.\n",
      "\n",
      "--- Menu ---\n",
      "1. Check Balance\n",
      "2. Deposit\n",
      "3. Withdraw\n",
      "4. Logout\n"
     ]
    },
    {
     "name": "stdin",
     "output_type": "stream",
     "text": [
      "Enter your choice:  3\n",
      "Enter amount to withdraw:  25000\n"
     ]
    },
    {
     "name": "stdout",
     "output_type": "stream",
     "text": [
      "25000.0 withdrawn successfully.\n",
      "\n",
      "--- Menu ---\n",
      "1. Check Balance\n",
      "2. Deposit\n",
      "3. Withdraw\n",
      "4. Logout\n"
     ]
    },
    {
     "name": "stdin",
     "output_type": "stream",
     "text": [
      "Enter your choice:  1\n"
     ]
    },
    {
     "name": "stdout",
     "output_type": "stream",
     "text": [
      "Current Balance:  180000.0\n",
      "\n",
      "--- Menu ---\n",
      "1. Check Balance\n",
      "2. Deposit\n",
      "3. Withdraw\n",
      "4. Logout\n"
     ]
    },
    {
     "name": "stdin",
     "output_type": "stream",
     "text": [
      "Enter your choice:  4\n"
     ]
    },
    {
     "name": "stdout",
     "output_type": "stream",
     "text": [
      "Logging out...\n",
      "\n",
      "===== Welcome to Python ATM =====\n",
      "1. Create Account\n",
      "2. Login\n",
      "3. Exit\n"
     ]
    },
    {
     "name": "stdin",
     "output_type": "stream",
     "text": [
      "Enter your choice:  3\n"
     ]
    },
    {
     "name": "stdout",
     "output_type": "stream",
     "text": [
      "Thank you for using the ATM. Goodbye!\n"
     ]
    }
   ],
   "source": [
    "### Atm Stimulator Using python and sql\n",
    "\n",
    "import sqlite3\n",
    "\n",
    "conn = sqlite3.connect(\"atm1.db\")\n",
    "cur = conn.cursor()\n",
    "\n",
    "cur.execute('''\n",
    "CREATE TABLE IF NOT EXISTS accounts (\n",
    "    acc_no INTEGER PRIMARY KEY AUTOINCREMENT,\n",
    "    name TEXT,\n",
    "    pin TEXT,\n",
    "    balance REAL\n",
    ")\n",
    "''')\n",
    "conn.commit()\n",
    "\n",
    "def create_account(name, pin, balance):\n",
    "    cur.execute(\"INSERT INTO accounts (name, pin, balance) VALUES (?, ?, ?)\", (name, pin, balance))\n",
    "    conn.commit()\n",
    "    acc_no = cur.lastrowid\n",
    "    print(f\"Account created successfully! Your account number is: {acc_no}\")\n",
    "\n",
    "def login(acc_no, pin):\n",
    "    cur.execute(\"SELECT * FROM accounts WHERE acc_no=? AND pin=?\", (acc_no, pin))\n",
    "    user = cur.fetchone()\n",
    "    if user:\n",
    "        print(f\"Welcome {user[1]}!\")\n",
    "        return user\n",
    "    else:\n",
    "        print(\"Invalid account number or PIN.\")\n",
    "        return None\n",
    "\n",
    "def check_balance(acc_no):\n",
    "    cur.execute(\"SELECT balance FROM accounts WHERE acc_no=?\", (acc_no,))\n",
    "    balance = cur.fetchone()[0]\n",
    "    print(f\"Current Balance:  {balance}\")\n",
    "\n",
    "def deposit(acc_no, amount):\n",
    "    cur.execute(\"UPDATE accounts SET balance = balance + ? WHERE acc_no=?\", (amount, acc_no))\n",
    "    conn.commit()\n",
    "    print(f\"{amount} deposited successfully.\")\n",
    "\n",
    "def withdraw(acc_no, amount):\n",
    "    cur.execute(\"SELECT balance FROM accounts WHERE acc_no=?\", (acc_no,))\n",
    "    current_balance = cur.fetchone()[0]\n",
    "\n",
    "    if amount > current_balance:\n",
    "        print(\"Insufficient balance!\")\n",
    "    else:\n",
    "        cur.execute(\"UPDATE accounts SET balance = balance - ? WHERE acc_no=?\", (amount, acc_no))\n",
    "        conn.commit()\n",
    "        print(f\"{amount} withdrawn successfully.\")\n",
    "\n",
    "def atm_menu():\n",
    "    while True:\n",
    "        print(\"\\n===== Welcome to Python ATM =====\")\n",
    "        print(\"1. Create Account\")\n",
    "        print(\"2. Login\")\n",
    "        print(\"3. Exit\")\n",
    "        choice = input(\"Enter your choice: \")\n",
    "\n",
    "        if choice == '1':\n",
    "            name = input(\"Enter your name: \")\n",
    "            pin = input(\"Set a 5-digit PIN: \")\n",
    "            try:\n",
    "                initial_deposit = float(input(\"Enter initial deposit amount: \"))\n",
    "                create_account(name, pin, initial_deposit)\n",
    "            except ValueError:\n",
    "                print(\"Invalid deposit amount.\")\n",
    "        elif choice == '2':\n",
    "            try:\n",
    "                acc_no = int(input(\"Enter Account Number: \"))\n",
    "                pin = input(\"Enter PIN: \")\n",
    "            except ValueError:\n",
    "                print(\"Account number must be a number.\")\n",
    "                continue\n",
    "\n",
    "            user = login(acc_no, pin)\n",
    "            if not user:\n",
    "                continue\n",
    "\n",
    "            # Logged in — show transaction menu\n",
    "            while True:\n",
    "                print(\"\\n--- Menu ---\")\n",
    "                print(\"1. Check Balance\")\n",
    "                print(\"2. Deposit\")\n",
    "                print(\"3. Withdraw\")\n",
    "                print(\"4. Logout\")\n",
    "                trans_choice = input(\"Enter your choice: \")\n",
    "\n",
    "                if trans_choice == '1':\n",
    "                    check_balance(acc_no)\n",
    "                elif trans_choice == '2':\n",
    "                    try:\n",
    "                        amt = float(input(\"Enter amount to deposit: \"))\n",
    "                        deposit(acc_no, amt)\n",
    "                    except ValueError:\n",
    "                        print(\"Invalid amount.\")\n",
    "                elif trans_choice == '3':\n",
    "                    try:\n",
    "                        amt = float(input(\"Enter amount to withdraw: \"))\n",
    "                        withdraw(acc_no, amt)\n",
    "                    except ValueError:\n",
    "                        print(\"Invalid amount.\")\n",
    "                elif trans_choice == '4':\n",
    "                    print(\"Logging out...\")\n",
    "                    break\n",
    "                else:\n",
    "                    print(\"Invalid choice.\")\n",
    "        elif choice == '3':\n",
    "            print(\"Thank you for using the ATM. Goodbye!\")\n",
    "            break\n",
    "        else:\n",
    "            print(\"Invalid choice.\")\n",
    "\n",
    "atm_menu()\n",
    "conn.close()"
   ]
  },
  {
   "cell_type": "code",
   "execution_count": null,
   "id": "c427c3b2-8776-4dbb-b88d-19339b394fc8",
   "metadata": {},
   "outputs": [
    {
     "name": "stdout",
     "output_type": "stream",
     "text": [
      "\n",
      "==== Main Menu ====\n",
      "1. Create Account\n",
      "2. ATM Login\n",
      "3. Exit\n"
     ]
    },
    {
     "name": "stdin",
     "output_type": "stream",
     "text": [
      "Enter your choice:  1\n",
      "Enter your name:  Pawan\n",
      "Choose a 4-digit PIN:  1234\n",
      "Initial deposit:  100000\n"
     ]
    },
    {
     "name": "stdout",
     "output_type": "stream",
     "text": [
      "Account created successfully!\n",
      "Your Account Number is: 5 — Please note it down.\n",
      "\n",
      "==== Main Menu ====\n",
      "1. Create Account\n",
      "2. ATM Login\n",
      "3. Exit\n"
     ]
    },
    {
     "name": "stdin",
     "output_type": "stream",
     "text": [
      "Enter your choice:  2\n"
     ]
    },
    {
     "name": "stdout",
     "output_type": "stream",
     "text": [
      "===== Welcome to Python ATM =====\n"
     ]
    },
    {
     "name": "stdin",
     "output_type": "stream",
     "text": [
      "Enter Account Number:  5\n",
      "Enter PIN:  12345\n"
     ]
    },
    {
     "name": "stdout",
     "output_type": "stream",
     "text": [
      "Invalid account number or PIN.\n",
      "\n",
      "==== Main Menu ====\n",
      "1. Create Account\n",
      "2. ATM Login\n",
      "3. Exit\n"
     ]
    },
    {
     "name": "stdin",
     "output_type": "stream",
     "text": [
      "Enter your choice:  2\n"
     ]
    },
    {
     "name": "stdout",
     "output_type": "stream",
     "text": [
      "===== Welcome to Python ATM =====\n"
     ]
    },
    {
     "name": "stdin",
     "output_type": "stream",
     "text": [
      "Enter Account Number:  5\n",
      "Enter PIN:  1234\n"
     ]
    },
    {
     "name": "stdout",
     "output_type": "stream",
     "text": [
      "Welcome Pawan!\n",
      "\n",
      "--- ATM Menu ---\n",
      "1. Check Balance\n",
      "2. Deposit\n",
      "3. Withdraw\n",
      "4. Exit\n"
     ]
    },
    {
     "name": "stdin",
     "output_type": "stream",
     "text": [
      "Enter your choice:  1\n"
     ]
    },
    {
     "name": "stdout",
     "output_type": "stream",
     "text": [
      "Current Balance: ₹100000.0\n",
      "\n",
      "--- ATM Menu ---\n",
      "1. Check Balance\n",
      "2. Deposit\n",
      "3. Withdraw\n",
      "4. Exit\n"
     ]
    },
    {
     "name": "stdin",
     "output_type": "stream",
     "text": [
      "Enter your choice:  2\n",
      "Enter amount to deposit:  500000\n"
     ]
    },
    {
     "name": "stdout",
     "output_type": "stream",
     "text": [
      "₹500000.0 deposited successfully.\n",
      "\n",
      "--- ATM Menu ---\n",
      "1. Check Balance\n",
      "2. Deposit\n",
      "3. Withdraw\n",
      "4. Exit\n"
     ]
    },
    {
     "name": "stdin",
     "output_type": "stream",
     "text": [
      "Enter your choice:  3\n",
      "Enter amount to withdraw:  40000\n"
     ]
    },
    {
     "name": "stdout",
     "output_type": "stream",
     "text": [
      "₹40000.0 withdrawn successfully.\n",
      "\n",
      "--- ATM Menu ---\n",
      "1. Check Balance\n",
      "2. Deposit\n",
      "3. Withdraw\n",
      "4. Exit\n"
     ]
    },
    {
     "name": "stdin",
     "output_type": "stream",
     "text": [
      "Enter your choice:  1\n"
     ]
    },
    {
     "name": "stdout",
     "output_type": "stream",
     "text": [
      "Current Balance: ₹560000.0\n",
      "\n",
      "--- ATM Menu ---\n",
      "1. Check Balance\n",
      "2. Deposit\n",
      "3. Withdraw\n",
      "4. Exit\n"
     ]
    },
    {
     "name": "stdin",
     "output_type": "stream",
     "text": [
      "Enter your choice:  4\n"
     ]
    },
    {
     "name": "stdout",
     "output_type": "stream",
     "text": [
      "Thank you for using Python ATM.\n",
      "\n",
      "==== Main Menu ====\n",
      "1. Create Account\n",
      "2. ATM Login\n",
      "3. Exit\n"
     ]
    }
   ],
   "source": [
    "import sqlite3\n",
    "\n",
    "conn = sqlite3.connect(\"atm.db\")\n",
    "cur = conn.cursor()\n",
    "\n",
    "cur.execute('''\n",
    "CREATE TABLE IF NOT EXISTS accounts (\n",
    "    acc_no INTEGER PRIMARY KEY AUTOINCREMENT,\n",
    "    name TEXT,\n",
    "    pin TEXT,\n",
    "    balance REAL\n",
    ")\n",
    "''')\n",
    "conn.commit()\n",
    "\n",
    "def create_account(name, pin, balance):\n",
    "    cur.execute(\"INSERT INTO accounts (name, pin, balance) VALUES (?, ?, ?)\", (name, pin, balance))\n",
    "    conn.commit()\n",
    "    \n",
    "    # Get the last inserted account number\n",
    "    acc_no = cur.lastrowid\n",
    "    print(\"Account created successfully!\")\n",
    "    print(f\"Your Account Number is: {acc_no} — Please note it down.\")\n",
    "\n",
    "\n",
    "def login(acc_no, pin):\n",
    "    cur.execute(\"SELECT * FROM accounts WHERE acc_no=? AND pin=?\", (acc_no, pin))\n",
    "    user = cur.fetchone()\n",
    "    if user:\n",
    "        print(f\"Welcome {user[1]}!\")\n",
    "        return user\n",
    "    else:\n",
    "        print(\"Invalid account number or PIN.\")\n",
    "        return None\n",
    "\n",
    "def check_balance(acc_no):\n",
    "    cur.execute(\"SELECT balance FROM accounts WHERE acc_no=?\", (acc_no,))\n",
    "    result = cur.fetchone()\n",
    "    if result:\n",
    "        print(f\"Current Balance: ₹{result[0]}\")\n",
    "    else:\n",
    "        print(\"Account not found.\")\n",
    "\n",
    "def deposit(acc_no, amount):\n",
    "    cur.execute(\"UPDATE accounts SET balance = balance + ? WHERE acc_no=?\", (amount, acc_no))\n",
    "    conn.commit()\n",
    "    print(f\"₹{amount} deposited successfully.\")\n",
    "\n",
    "# Function to withdraw\n",
    "def withdraw(acc_no, amount):\n",
    "    cur.execute(\"SELECT balance FROM accounts WHERE acc_no=?\", (acc_no,))\n",
    "    current_balance = cur.fetchone()\n",
    "    if not current_balance:\n",
    "        print(\"Account not found.\")\n",
    "        return\n",
    "\n",
    "    current_balance = current_balance[0]\n",
    "    if amount > current_balance:\n",
    "        print(\"Insufficient balance!\")\n",
    "    else:\n",
    "        cur.execute(\"UPDATE accounts SET balance = balance - ? WHERE acc_no=?\", (amount, acc_no))\n",
    "        conn.commit()\n",
    "        print(f\"₹{amount} withdrawn successfully.\")\n",
    "\n",
    "# ATM Menu\n",
    "def atm_menu():\n",
    "    print(\"===== Welcome to Python ATM =====\")\n",
    "    acc_no = int(input(\"Enter Account Number: \"))\n",
    "    pin = input(\"Enter PIN: \")\n",
    "\n",
    "    user = login(acc_no, pin)\n",
    "    if not user:\n",
    "        return\n",
    "\n",
    "    while True:\n",
    "        print(\"\\n--- ATM Menu ---\")\n",
    "        print(\"1. Check Balance\")\n",
    "        print(\"2. Deposit\")\n",
    "        print(\"3. Withdraw\")\n",
    "        print(\"4. Exit\")\n",
    "\n",
    "        choice = input(\"Enter your choice: \")\n",
    "        if choice == '1':\n",
    "            check_balance(acc_no)\n",
    "        elif choice == '2':\n",
    "            amount = float(input(\"Enter amount to deposit: \"))\n",
    "            deposit(acc_no, amount)\n",
    "        elif choice == '3':\n",
    "            amount = float(input(\"Enter amount to withdraw: \"))\n",
    "            withdraw(acc_no, amount)\n",
    "        elif choice == '4':\n",
    "            print(\"Thank you for using Python ATM.\")\n",
    "            break\n",
    "        else:\n",
    "            print(\"Invalid choice. Please try again.\")\n",
    "\n",
    "\n",
    "def main():\n",
    "    while True:\n",
    "        print(\"\\n==== Main Menu ====\")\n",
    "        print(\"1. Create Account\")\n",
    "        print(\"2. ATM Login\")\n",
    "        print(\"3. Exit\")\n",
    "\n",
    "        choice = input(\"Enter your choice: \")\n",
    "        if choice == '1':\n",
    "            name = input(\"Enter your name: \")\n",
    "            pin = input(\"Choose a 4-digit PIN: \")\n",
    "            balance = float(input(\"Initial deposit: \"))\n",
    "            create_account(name, pin, balance)\n",
    "        elif choice == '2':\n",
    "            atm_menu()\n",
    "        elif choice == '3':\n",
    "            print(\"Goodbye!\")\n",
    "            break\n",
    "        else:\n",
    "            print(\"Invalid choice.\")\n",
    "\n",
    "\n",
    "if __name__ == \"__main__\":\n",
    "    main()\n",
    "    conn.close()"
   ]
  },
  {
   "cell_type": "code",
   "execution_count": null,
   "id": "6463cf28-8bc3-44c6-ab1a-d724f26ea64d",
   "metadata": {},
   "outputs": [],
   "source": []
  }
 ],
 "metadata": {
  "kernelspec": {
   "display_name": "Python 3 (ipykernel)",
   "language": "python",
   "name": "python3"
  },
  "language_info": {
   "codemirror_mode": {
    "name": "ipython",
    "version": 3
   },
   "file_extension": ".py",
   "mimetype": "text/x-python",
   "name": "python",
   "nbconvert_exporter": "python",
   "pygments_lexer": "ipython3",
   "version": "3.13.5"
  }
 },
 "nbformat": 4,
 "nbformat_minor": 5
}
